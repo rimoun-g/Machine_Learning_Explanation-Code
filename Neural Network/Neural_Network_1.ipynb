{
 "cells": [
  {
   "cell_type": "code",
   "execution_count": null,
   "metadata": {},
   "outputs": [],
   "source": [
    "# import numpy as np\n",
    "# neuron = 4\n",
    "\n",
    "## def sigmoid(x):\n",
    "#     return 1.0/(1+ np.exp(-x))\n",
    "\n",
    "# def sigmoid_derivative(x):\n",
    "#     return x * (1.0 - x)\n",
    "\n",
    "# class NeuralNetwork:\n",
    "#     def __init__(self, x, y):\n",
    "#         self.input      = x\n",
    "#         print('inputs \\n' , self.input)\n",
    "#         print()\n",
    "#         self.weights1   = np.random.rand(self.input.shape[1],neuron) \n",
    "#         print('weights1 \\n',self.weights1)\n",
    "#         print()\n",
    "#         self.weights2   = np.random.rand(neuron,1)                 \n",
    "#         print('weights2 \\n',self.weights2)\n",
    "#         print()\n",
    "#         self.y          = y\n",
    "#         print('y \\n',self.y)\n",
    "#         print()\n",
    "#         self.output     = np.zeros(self.y.shape) # y hat\n",
    "#         print('output \\n',self.output)\n",
    "#         print()\n",
    "        \n",
    "#     def feedforward(self):\n",
    "#         self.layer1 = sigmoid(np.dot(self.input, self.weights1))\n",
    "# #        print('layer 1 \\n',self.layer1)\n",
    "# #        print()        \n",
    "#         self.output = sigmoid(np.dot(self.layer1, self.weights2))\n",
    "# #        print('output \\n',self.output)\n",
    "# #        print()\n",
    "        \n",
    "#     def backprop(self):\n",
    "#         # application of the chain rule to find derivative of the loss function with respect to weights2 and weights1\n",
    "#         d_weights2 = np.dot(self.layer1.T, (2*(self.y - self.output) * sigmoid_derivative(self.output)))\n",
    "# #        print('d_weights2  \\n',d_weights2  )\n",
    "# #        print()        \n",
    "#         d_weights1 = np.dot(self.input.T,\n",
    "#                             (np.dot(2*(self.y - self.output) * sigmoid_derivative(self.output),\n",
    "#                                     self.weights2.T) * sigmoid_derivative(self.layer1)))\n",
    "# #        print('d_weights1 \\n',d_weights1)\n",
    "# #        print()        \n",
    "\n",
    "#         # update the weights with the derivative (slope) of the loss function\n",
    "#         self.weights1 += d_weights1\n",
    "#         self.weights2 += d_weights2\n",
    "\n",
    "\n",
    "# X = np.array([[0,0,1],\n",
    "#               [0,1,1],\n",
    "#               [1,0,1],\n",
    "#               [1,1,1]])\n",
    "\n",
    "    \n",
    "    \n",
    "# y = np.array([[0],\n",
    "#               [1],\n",
    "#               [1],\n",
    "#               [0]])\n",
    "\n",
    "    \n",
    "# nn = NeuralNetwork(X,y)\n",
    "\n",
    "# for i in range(20000):\n",
    "#     nn.feedforward()\n",
    "#     nn.backprop()\n",
    "# #    print('--------------------------------')\n",
    "# #\n",
    "# print(nn.output)\n"
   ]
  },
  {
   "cell_type": "markdown",
   "metadata": {},
   "source": [
    "[Code Here](https://towardsdatascience.com/how-to-build-your-own-neural-network-from-scratch-in-python-68998a08e4f6)"
   ]
  },
  {
   "cell_type": "code",
   "execution_count": 20,
   "metadata": {},
   "outputs": [],
   "source": [
    "import numpy as np\n",
    "import pandas as pd\n",
    "neuron = 4"
   ]
  },
  {
   "cell_type": "code",
   "execution_count": 21,
   "metadata": {},
   "outputs": [],
   "source": [
    "def sigmoid(z):\n",
    "    return 1/(1+np.exp(-z))\n",
    "\n",
    "def sigmoid_derivative(z):\n",
    "    return z*(1-z)"
   ]
  },
  {
   "cell_type": "code",
   "execution_count": 36,
   "metadata": {},
   "outputs": [],
   "source": [
    "# NeuralNetwork with 2 layers and 4 neuron\n",
    "class NeuralNetwork:\n",
    "    def __init__(self, x, y):\n",
    "        self.input      = x\n",
    "#         print('inputs \\n' , self.input)\n",
    "#         print()\n",
    "\n",
    "        # thetas of 1st layer\n",
    "        self.weights1   = np.random.rand(self.input.shape[1],neuron) \n",
    "#         print('weights1 \\n',self.weights1)\n",
    "#         print()\n",
    "\n",
    "        # thetas of 2nd layer\n",
    "        self.weights2   = np.random.rand(neuron,1)                 \n",
    "#         print('weights2 \\n',self.weights2)\n",
    "#         print()\n",
    "        self.y          = y\n",
    "#         print('y \\n',self.y)\n",
    "#         print()\n",
    "        self.output     = np.zeros(self.y.shape) # y hat\n",
    "#         print('output \\n',self.output)\n",
    "#         print()\n",
    "        \n",
    "    def feedforward(self):\n",
    "        # np.dot ==> multiply 2 metrics\n",
    "        # activations\n",
    "        self.layer1 = sigmoid(np.dot(self.input, self.weights1))#(4*3,3*4)=4*4\n",
    "#        print('layer 1 \\n',self.layer1)\n",
    "#        print()        \n",
    "        self.output = sigmoid(np.dot(self.layer1, self.weights2))#(4*4,4*1)=4*1\n",
    "#        print('output \\n',self.output)\n",
    "#        print()\n",
    "        \n",
    "    def backprop(self):\n",
    "        # application of the chain rule to find derivative of the loss function with respect to weights2 and weights1\n",
    "        \n",
    "        # 2*(y-y^)*sigmoid_derivative(z)\n",
    "        d_weights2 = np.dot(self.layer1.T, (2*(self.y - self.output) * sigmoid_derivative(self.output)) )\n",
    "#        print('d_weights2  \\n',d_weights2  )\n",
    "#        print()        \n",
    "        d_weights1 = np.dot(self.input.T,\n",
    "                            (np.dot(\n",
    "                                (2*(self.y - self.output) * sigmoid_derivative(self.output)),\n",
    "                                    self.weights2.T\n",
    "                                   ) * sigmoid_derivative(self.layer1)\n",
    "                             )\n",
    "                            )\n",
    "#        print('d_weights1 \\n',d_weights1)\n",
    "#        print()        \n",
    "\n",
    "        # update the weights with the derivative (slope) of the loss function\n",
    "        self.weights1 += d_weights1\n",
    "        self.weights2 += d_weights2\n"
   ]
  },
  {
   "cell_type": "code",
   "execution_count": 30,
   "metadata": {},
   "outputs": [],
   "source": [
    "# 4*3\n",
    "X = np.array([[0,0,1],\n",
    "              [0,1,1],\n",
    "              [1,0,1],\n",
    "              [1,1,1]])\n",
    "\n",
    "    \n",
    "# 4*1    \n",
    "y = np.array([[0],\n",
    "              [1],\n",
    "              [1],\n",
    "              [0]])\n"
   ]
  },
  {
   "cell_type": "code",
   "execution_count": 37,
   "metadata": {},
   "outputs": [
    {
     "name": "stdout",
     "output_type": "stream",
     "text": [
      "[[0.00568796]\n",
      " [0.99411614]\n",
      " [0.99708925]\n",
      " [0.00437487]]\n"
     ]
    }
   ],
   "source": [
    "nuralnet = NeuralNetwork(X,y)\n",
    "\n",
    "for i in range(20000):\n",
    "    nuralnet.feedforward()\n",
    "    nuralnet.backprop()\n",
    "#    print('--------------------------------')\n",
    "#\n",
    "print(nuralnet.output)\n"
   ]
  },
  {
   "cell_type": "code",
   "execution_count": null,
   "metadata": {},
   "outputs": [],
   "source": []
  },
  {
   "cell_type": "code",
   "execution_count": null,
   "metadata": {},
   "outputs": [],
   "source": []
  }
 ],
 "metadata": {
  "kernelspec": {
   "display_name": "newEnv",
   "language": "python",
   "name": "newenv"
  },
  "language_info": {
   "codemirror_mode": {
    "name": "ipython",
    "version": 3
   },
   "file_extension": ".py",
   "mimetype": "text/x-python",
   "name": "python",
   "nbconvert_exporter": "python",
   "pygments_lexer": "ipython3",
   "version": "3.7.1"
  }
 },
 "nbformat": 4,
 "nbformat_minor": 2
}
